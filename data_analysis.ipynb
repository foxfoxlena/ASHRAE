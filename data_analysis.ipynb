{
 "cells": [
  {
   "cell_type": "code",
   "execution_count": 1,
   "metadata": {},
   "outputs": [],
   "source": [
    "# Visualized the missing data and zeros\n",
    "# for each building and meter pair, we want to visualize the missing target\n",
    "# and the target what is zero VS time"
   ]
  },
  {
   "cell_type": "code",
   "execution_count": null,
   "metadata": {},
   "outputs": [],
   "source": [
    "import numpy as np # linear algebra\n",
    "import pandas as pd # data processing, CSV file I/O (e.g. pd.read_csv)\n",
    "import matplotlib.pyplot as plt\n",
    "import seaborn as sns\n",
    "\n",
    "# Load data\n",
    "train = pd.read_csv('/kaggle/input/ashrae-energy-prediction/train.csv')\n",
    "train['timestamp'] = pd.to_datetime(train.timestamp)\n",
    "train = train.set_index(['timestamp'])\n",
    "\n",
    "# Plot missing values per building/meter\n",
    "f,a=plt.subplots(1,4,figsize=(20,30))\n",
    "for meter in np.arange(4):\n",
    "    df = train[train.meter==meter].copy().reset_index()\n",
    "    df['timestamp'] = pd.to_timedelta(df.timestamp).dt.total_seconds() / 3600\n",
    "    df['timestamp'] = df.timestamp.astype(int)\n",
    "    df.timestamp -= df.timestamp.min()\n",
    "    missmap = np.empty((1449, df.timestamp.max()+1))\n",
    "    missmap.fill(np.nan)\n",
    "    for l in df.values:\n",
    "        if l[2]!=meter:continue\n",
    "        missmap[int(l[1]), int(l[0])] = 0 if l[3]==0 else 1\n",
    "    a[meter].set_title(f'meter {meter:d}')\n",
    "    sns.heatmap(missmap, cmap='Paired', ax=a[meter], cbar=False)\n"
   ]
  }
 ],
 "metadata": {
  "kernelspec": {
   "display_name": "Python 3",
   "language": "python",
   "name": "python3"
  },
  "language_info": {
   "codemirror_mode": {
    "name": "ipython",
    "version": 3
   },
   "file_extension": ".py",
   "mimetype": "text/x-python",
   "name": "python",
   "nbconvert_exporter": "python",
   "pygments_lexer": "ipython3",
   "version": "3.8.5"
  }
 },
 "nbformat": 4,
 "nbformat_minor": 4
}
